{
 "cells": [
  {
   "cell_type": "code",
   "execution_count": 3,
   "id": "40a786a0-e3ad-45df-99d2-8ec49ad7d17c",
   "metadata": {},
   "outputs": [],
   "source": [
    "import pandas as pd\n",
    "import numpy as np\n",
    "\n",
    "import matplotlib.pyplot as plt\n",
    "import seaborn as sns\n",
    "\n",
    "import os\n",
    "\n",
    "from sklearn.preprocessing import StandardScaler"
   ]
  },
  {
   "cell_type": "code",
   "execution_count": 4,
   "id": "0e656358-bf80-4f9c-bc62-b724199043ca",
   "metadata": {},
   "outputs": [],
   "source": [
    "# os.chdir('//Users//Justin//Desktop//Coding:Projects//Kaggle_Competitions//Predicting the Beats-per-Minute of Songs')\n",
    "# os.getcwd()"
   ]
  },
  {
   "cell_type": "markdown",
   "id": "b506e657-4260-4c10-84e4-727f10a549e0",
   "metadata": {},
   "source": [
    "# Reading in the data"
   ]
  },
  {
   "cell_type": "code",
   "execution_count": 7,
   "id": "c6ead298-69ea-4373-b843-10b78bff244d",
   "metadata": {},
   "outputs": [
    {
     "name": "stdout",
     "output_type": "stream",
     "text": [
      "Train---(524164, 11)\n",
      "Test---(174722, 10)\n"
     ]
    }
   ],
   "source": [
    "train = pd.read_csv('Data/train.csv')\n",
    "test = pd.read_csv('Data/test.csv')\n",
    "\n",
    "print(f'Train---{train.shape}\\nTest---{test.shape}')"
   ]
  },
  {
   "cell_type": "markdown",
   "id": "806a0d7a-93e9-4d5a-b149-19dbfa8eabe6",
   "metadata": {},
   "source": [
    "# EDA"
   ]
  },
  {
   "cell_type": "markdown",
   "id": "329ed02d-294a-49a9-8686-6ca017c3915c",
   "metadata": {},
   "source": [
    "### Train"
   ]
  },
  {
   "cell_type": "code",
   "execution_count": 12,
   "id": "01a9c582-a846-4a41-8aa0-7671d5faa4f1",
   "metadata": {
    "scrolled": true
   },
   "outputs": [
    {
     "name": "stdout",
     "output_type": "stream",
     "text": [
      "<class 'pandas.core.frame.DataFrame'>\n",
      "RangeIndex: 524164 entries, 0 to 524163\n",
      "Data columns (total 11 columns):\n",
      " #   Column                     Non-Null Count   Dtype  \n",
      "---  ------                     --------------   -----  \n",
      " 0   id                         524164 non-null  int64  \n",
      " 1   RhythmScore                524164 non-null  float64\n",
      " 2   AudioLoudness              524164 non-null  float64\n",
      " 3   VocalContent               524164 non-null  float64\n",
      " 4   AcousticQuality            524164 non-null  float64\n",
      " 5   InstrumentalScore          524164 non-null  float64\n",
      " 6   LivePerformanceLikelihood  524164 non-null  float64\n",
      " 7   MoodScore                  524164 non-null  float64\n",
      " 8   TrackDurationMs            524164 non-null  float64\n",
      " 9   Energy                     524164 non-null  float64\n",
      " 10  BeatsPerMinute             524164 non-null  float64\n",
      "dtypes: float64(10), int64(1)\n",
      "memory usage: 44.0 MB\n"
     ]
    },
    {
     "data": {
      "text/html": [
       "<div>\n",
       "<style scoped>\n",
       "    .dataframe tbody tr th:only-of-type {\n",
       "        vertical-align: middle;\n",
       "    }\n",
       "\n",
       "    .dataframe tbody tr th {\n",
       "        vertical-align: top;\n",
       "    }\n",
       "\n",
       "    .dataframe thead th {\n",
       "        text-align: right;\n",
       "    }\n",
       "</style>\n",
       "<table border=\"1\" class=\"dataframe\">\n",
       "  <thead>\n",
       "    <tr style=\"text-align: right;\">\n",
       "      <th></th>\n",
       "      <th>id</th>\n",
       "      <th>RhythmScore</th>\n",
       "      <th>AudioLoudness</th>\n",
       "      <th>VocalContent</th>\n",
       "      <th>AcousticQuality</th>\n",
       "      <th>InstrumentalScore</th>\n",
       "      <th>LivePerformanceLikelihood</th>\n",
       "      <th>MoodScore</th>\n",
       "      <th>TrackDurationMs</th>\n",
       "      <th>Energy</th>\n",
       "      <th>BeatsPerMinute</th>\n",
       "    </tr>\n",
       "  </thead>\n",
       "  <tbody>\n",
       "    <tr>\n",
       "      <th>count</th>\n",
       "      <td>524164.000000</td>\n",
       "      <td>524164.000000</td>\n",
       "      <td>524164.000000</td>\n",
       "      <td>524164.000000</td>\n",
       "      <td>524164.000000</td>\n",
       "      <td>524164.000000</td>\n",
       "      <td>524164.000000</td>\n",
       "      <td>524164.000000</td>\n",
       "      <td>524164.000000</td>\n",
       "      <td>524164.000000</td>\n",
       "      <td>524164.000000</td>\n",
       "    </tr>\n",
       "    <tr>\n",
       "      <th>mean</th>\n",
       "      <td>262081.500000</td>\n",
       "      <td>0.632843</td>\n",
       "      <td>-8.379014</td>\n",
       "      <td>0.074443</td>\n",
       "      <td>0.262913</td>\n",
       "      <td>0.117690</td>\n",
       "      <td>0.178398</td>\n",
       "      <td>0.555843</td>\n",
       "      <td>241903.692949</td>\n",
       "      <td>0.500923</td>\n",
       "      <td>119.034899</td>\n",
       "    </tr>\n",
       "    <tr>\n",
       "      <th>std</th>\n",
       "      <td>151313.257586</td>\n",
       "      <td>0.156899</td>\n",
       "      <td>4.616221</td>\n",
       "      <td>0.049939</td>\n",
       "      <td>0.223120</td>\n",
       "      <td>0.131845</td>\n",
       "      <td>0.118186</td>\n",
       "      <td>0.225480</td>\n",
       "      <td>59326.601501</td>\n",
       "      <td>0.289952</td>\n",
       "      <td>26.468077</td>\n",
       "    </tr>\n",
       "    <tr>\n",
       "      <th>min</th>\n",
       "      <td>0.000000</td>\n",
       "      <td>0.076900</td>\n",
       "      <td>-27.509725</td>\n",
       "      <td>0.023500</td>\n",
       "      <td>0.000005</td>\n",
       "      <td>0.000001</td>\n",
       "      <td>0.024300</td>\n",
       "      <td>0.025600</td>\n",
       "      <td>63973.000000</td>\n",
       "      <td>0.000067</td>\n",
       "      <td>46.718000</td>\n",
       "    </tr>\n",
       "    <tr>\n",
       "      <th>25%</th>\n",
       "      <td>131040.750000</td>\n",
       "      <td>0.515850</td>\n",
       "      <td>-11.551933</td>\n",
       "      <td>0.023500</td>\n",
       "      <td>0.069413</td>\n",
       "      <td>0.000001</td>\n",
       "      <td>0.077637</td>\n",
       "      <td>0.403921</td>\n",
       "      <td>207099.876625</td>\n",
       "      <td>0.254933</td>\n",
       "      <td>101.070410</td>\n",
       "    </tr>\n",
       "    <tr>\n",
       "      <th>50%</th>\n",
       "      <td>262081.500000</td>\n",
       "      <td>0.634686</td>\n",
       "      <td>-8.252499</td>\n",
       "      <td>0.066425</td>\n",
       "      <td>0.242502</td>\n",
       "      <td>0.074247</td>\n",
       "      <td>0.166327</td>\n",
       "      <td>0.564817</td>\n",
       "      <td>243684.058150</td>\n",
       "      <td>0.511800</td>\n",
       "      <td>118.747660</td>\n",
       "    </tr>\n",
       "    <tr>\n",
       "      <th>75%</th>\n",
       "      <td>393122.250000</td>\n",
       "      <td>0.739179</td>\n",
       "      <td>-4.912298</td>\n",
       "      <td>0.107343</td>\n",
       "      <td>0.396957</td>\n",
       "      <td>0.204065</td>\n",
       "      <td>0.268946</td>\n",
       "      <td>0.716633</td>\n",
       "      <td>281851.658500</td>\n",
       "      <td>0.746000</td>\n",
       "      <td>136.686590</td>\n",
       "    </tr>\n",
       "    <tr>\n",
       "      <th>max</th>\n",
       "      <td>524163.000000</td>\n",
       "      <td>0.975000</td>\n",
       "      <td>-1.357000</td>\n",
       "      <td>0.256401</td>\n",
       "      <td>0.995000</td>\n",
       "      <td>0.869258</td>\n",
       "      <td>0.599924</td>\n",
       "      <td>0.978000</td>\n",
       "      <td>464723.228100</td>\n",
       "      <td>1.000000</td>\n",
       "      <td>206.037000</td>\n",
       "    </tr>\n",
       "  </tbody>\n",
       "</table>\n",
       "</div>"
      ],
      "text/plain": [
       "                  id    RhythmScore  AudioLoudness   VocalContent  \\\n",
       "count  524164.000000  524164.000000  524164.000000  524164.000000   \n",
       "mean   262081.500000       0.632843      -8.379014       0.074443   \n",
       "std    151313.257586       0.156899       4.616221       0.049939   \n",
       "min         0.000000       0.076900     -27.509725       0.023500   \n",
       "25%    131040.750000       0.515850     -11.551933       0.023500   \n",
       "50%    262081.500000       0.634686      -8.252499       0.066425   \n",
       "75%    393122.250000       0.739179      -4.912298       0.107343   \n",
       "max    524163.000000       0.975000      -1.357000       0.256401   \n",
       "\n",
       "       AcousticQuality  InstrumentalScore  LivePerformanceLikelihood  \\\n",
       "count    524164.000000      524164.000000              524164.000000   \n",
       "mean          0.262913           0.117690                   0.178398   \n",
       "std           0.223120           0.131845                   0.118186   \n",
       "min           0.000005           0.000001                   0.024300   \n",
       "25%           0.069413           0.000001                   0.077637   \n",
       "50%           0.242502           0.074247                   0.166327   \n",
       "75%           0.396957           0.204065                   0.268946   \n",
       "max           0.995000           0.869258                   0.599924   \n",
       "\n",
       "           MoodScore  TrackDurationMs         Energy  BeatsPerMinute  \n",
       "count  524164.000000    524164.000000  524164.000000   524164.000000  \n",
       "mean        0.555843    241903.692949       0.500923      119.034899  \n",
       "std         0.225480     59326.601501       0.289952       26.468077  \n",
       "min         0.025600     63973.000000       0.000067       46.718000  \n",
       "25%         0.403921    207099.876625       0.254933      101.070410  \n",
       "50%         0.564817    243684.058150       0.511800      118.747660  \n",
       "75%         0.716633    281851.658500       0.746000      136.686590  \n",
       "max         0.978000    464723.228100       1.000000      206.037000  "
      ]
     },
     "execution_count": 12,
     "metadata": {},
     "output_type": "execute_result"
    }
   ],
   "source": [
    "train.info()\n",
    "train.describe()"
   ]
  },
  {
   "cell_type": "code",
   "execution_count": 35,
   "id": "904f7c98-6f68-4f67-812a-6c20811dad18",
   "metadata": {
    "scrolled": true
   },
   "outputs": [
    {
     "data": {
      "text/plain": [
       "Index(['id', 'RhythmScore', 'AudioLoudness', 'VocalContent', 'AcousticQuality',\n",
       "       'InstrumentalScore', 'LivePerformanceLikelihood', 'MoodScore',\n",
       "       'TrackDurationMs', 'Energy', 'BeatsPerMinute'],\n",
       "      dtype='object')"
      ]
     },
     "execution_count": 35,
     "metadata": {},
     "output_type": "execute_result"
    }
   ],
   "source": [
    "train.columns"
   ]
  },
  {
   "cell_type": "code",
   "execution_count": 38,
   "id": "30c7dcfa-5ae8-4841-9b4a-a8efbb12cba6",
   "metadata": {},
   "outputs": [
    {
     "data": {
      "image/png": "[encoded data removed]",
      "text/plain": [
       "<Figure size 640x480 with 1 Axes>"
      ]
     },
     "metadata": {},
     "output_type": "display_data"
    },
    {
     "data": {
      "image/png": "[encoded data removed]",
      "text/plain": [
       "<Figure size 640x480 with 1 Axes>"
      ]
     },
     "metadata": {},
     "output_type": "display_data"
    },
    {
     "data": {
      "image/png": "[encoded data removed]",
      "text/plain": [
       "<Figure size 640x480 with 1 Axes>"
      ]
     },
     "metadata": {},
     "output_type": "display_data"
    },
    {
     "data": {
      "image/png": "[encoded data removed]",
      "text/plain": [
       "<Figure size 640x480 with 1 Axes>"
      ]
     },
     "metadata": {},
     "output_type": "display_data"
    },
    {
     "data": {
      "image/png": "[encoded data removed]",
      "text/plain": [
       "<Figure size 640x480 with 1 Axes>"
      ]
     },
     "metadata": {},
     "output_type": "display_data"
    },
    {
     "data": {
      "image/png": "[encoded data removed]",
      "text/plain": [
       "<Figure size 640x480 with 1 Axes>"
      ]
     },
     "metadata": {},
     "output_type": "display_data"
    },
    {
     "data": {
      "image/png": "[encoded data removed]",
      "text/plain": [
       "<Figure size 640x480 with 1 Axes>"
      ]
     },
     "metadata": {},
     "output_type": "display_data"
    },
    {
     "data": {
      "image/png": "[encoded data removed]",
      "text/plain": [
       "<Figure size 640x480 with 1 Axes>"
      ]
     },
     "metadata": {},
     "output_type": "display_data"
    },
    {
     "data": {
      "image/png": "[encoded data removed]",
      "text/plain": [
       "<Figure size 640x480 with 1 Axes>"
      ]
     },
     "metadata": {},
     "output_type": "display_data"
    },
    {
     "data": {
      "image/png": "[encoded data removed]",
      "text/plain": [
       "<Figure size 640x480 with 1 Axes>"
      ]
     },
     "metadata": {},
     "output_type": "display_data"
    },
    {
     "data": {
      "image/png": "[encoded data removed]",
      "text/plain": [
       "<Figure size 640x480 with 1 Axes>"
      ]
     },
     "metadata": {},
     "output_type": "display_data"
    }
   ],
   "source": [
    "# Visuals to work\n",
    "for num, col in enumerate(train.columns.tolist(),1):\n",
    "    plt.subplot(len(train),2,num)\n",
    "    plt.hist(train[col])\n",
    "    plt.show()"
   ]
  },
  {
   "cell_type": "code",
   "execution_count": null,
   "id": "6712273d-ee9b-42bb-b85d-159fceac4c67",
   "metadata": {},
   "outputs": [],
   "source": [
    "for idx, col in enumerate(len(train.columns),1)"
   ]
  }
 ],
 "metadata": {
  "kernelspec": {
   "display_name": "Python 3 (ipykernel)",
   "language": "python",
   "name": "python3"
  },
  "language_info": {
   "codemirror_mode": {
    "name": "ipython",
    "version": 3
   },
   "file_extension": ".py",
   "mimetype": "text/x-python",
   "name": "python",
   "nbconvert_exporter": "python",
   "pygments_lexer": "ipython3",
   "version": "3.11.4"
  }
 },
 "nbformat": 4,
 "nbformat_minor": 5
}
