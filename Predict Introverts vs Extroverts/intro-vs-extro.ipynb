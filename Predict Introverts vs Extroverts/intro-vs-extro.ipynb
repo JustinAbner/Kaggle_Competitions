{
 "cells": [
  {
   "cell_type": "code",
   "execution_count": 3,
   "id": "05ab8f93",
   "metadata": {
    "papermill": {
     "duration": 4.956617,
     "end_time": "2025-09-04T21:59:22.043402",
     "exception": false,
     "start_time": "2025-09-04T21:59:17.086785",
     "status": "completed"
    },
    "tags": []
   },
   "outputs": [],
   "source": [
    "import pandas as pd\n",
    "import numpy as np\n",
    "\n",
    "import matplotlib.pyplot as plt\n",
    "import seaborn as sns\n",
    "\n",
    "import warnings\n",
    "warnings.filterwarnings('ignore')\n",
    "\n",
    "from sklearn.model_selection import train_test_split, GridSearchCV\n",
    "from sklearn.linear_model import LogisticRegression\n",
    "from sklearn.metrics import accuracy_score"
   ]
  },
  {
   "cell_type": "code",
   "execution_count": 4,
   "id": "1c7b444b",
   "metadata": {
    "papermill": {
     "duration": 0.080828,
     "end_time": "2025-09-04T21:59:22.129218",
     "exception": false,
     "start_time": "2025-09-04T21:59:22.048390",
     "status": "completed"
    },
    "tags": []
   },
   "outputs": [
    {
     "name": "stdout",
     "output_type": "stream",
     "text": [
      "Train-(18524, 9)\n",
      "Test-(6175, 8)\n"
     ]
    }
   ],
   "source": [
    "# Reading in data\n",
    "### Using Kaggle notebook\n",
    "# train_df = pd.read_csv('/kaggle/input/playground-series-s5e7/train.csv')\n",
    "# test_df = pd.read_csv('/kaggle/input/playground-series-s5e7/test.csv')\n",
    "# sample_subm = pd.read_csv('/kaggle/input/playground-series-s5e7/sample_submission.csv')\n",
    "\n",
    "### Using personal notebook\n",
    "train_df = pd.read_csv('Data/train.csv')\n",
    "test_df = pd.read_csv('Data/test.csv')\n",
    "sample_subm = pd.read_csv('Data/sample_submission.csv')\n",
    "\n",
    "print(f'Train-{train_df.shape}\\nTest-{test_df.shape}')"
   ]
  },
  {
   "cell_type": "code",
   "execution_count": 5,
   "id": "3de0623f",
   "metadata": {
    "papermill": {
     "duration": 0.042114,
     "end_time": "2025-09-04T21:59:22.177073",
     "exception": false,
     "start_time": "2025-09-04T21:59:22.134959",
     "status": "completed"
    },
    "tags": []
   },
   "outputs": [
    {
     "data": {
      "text/html": [
       "<div>\n",
       "<style scoped>\n",
       "    .dataframe tbody tr th:only-of-type {\n",
       "        vertical-align: middle;\n",
       "    }\n",
       "\n",
       "    .dataframe tbody tr th {\n",
       "        vertical-align: top;\n",
       "    }\n",
       "\n",
       "    .dataframe thead th {\n",
       "        text-align: right;\n",
       "    }\n",
       "</style>\n",
       "<table border=\"1\" class=\"dataframe\">\n",
       "  <thead>\n",
       "    <tr style=\"text-align: right;\">\n",
       "      <th></th>\n",
       "      <th>id</th>\n",
       "      <th>Time_spent_Alone</th>\n",
       "      <th>Stage_fear</th>\n",
       "      <th>Social_event_attendance</th>\n",
       "      <th>Going_outside</th>\n",
       "      <th>Drained_after_socializing</th>\n",
       "      <th>Friends_circle_size</th>\n",
       "      <th>Post_frequency</th>\n",
       "      <th>Personality</th>\n",
       "    </tr>\n",
       "  </thead>\n",
       "  <tbody>\n",
       "    <tr>\n",
       "      <th>0</th>\n",
       "      <td>0</td>\n",
       "      <td>0.0</td>\n",
       "      <td>No</td>\n",
       "      <td>6.0</td>\n",
       "      <td>4.0</td>\n",
       "      <td>No</td>\n",
       "      <td>15.0</td>\n",
       "      <td>5.0</td>\n",
       "      <td>Extrovert</td>\n",
       "    </tr>\n",
       "    <tr>\n",
       "      <th>1</th>\n",
       "      <td>1</td>\n",
       "      <td>1.0</td>\n",
       "      <td>No</td>\n",
       "      <td>7.0</td>\n",
       "      <td>3.0</td>\n",
       "      <td>No</td>\n",
       "      <td>10.0</td>\n",
       "      <td>8.0</td>\n",
       "      <td>Extrovert</td>\n",
       "    </tr>\n",
       "    <tr>\n",
       "      <th>2</th>\n",
       "      <td>2</td>\n",
       "      <td>6.0</td>\n",
       "      <td>Yes</td>\n",
       "      <td>1.0</td>\n",
       "      <td>0.0</td>\n",
       "      <td>NaN</td>\n",
       "      <td>3.0</td>\n",
       "      <td>0.0</td>\n",
       "      <td>Introvert</td>\n",
       "    </tr>\n",
       "    <tr>\n",
       "      <th>3</th>\n",
       "      <td>3</td>\n",
       "      <td>3.0</td>\n",
       "      <td>No</td>\n",
       "      <td>7.0</td>\n",
       "      <td>3.0</td>\n",
       "      <td>No</td>\n",
       "      <td>11.0</td>\n",
       "      <td>5.0</td>\n",
       "      <td>Extrovert</td>\n",
       "    </tr>\n",
       "    <tr>\n",
       "      <th>4</th>\n",
       "      <td>4</td>\n",
       "      <td>1.0</td>\n",
       "      <td>No</td>\n",
       "      <td>4.0</td>\n",
       "      <td>4.0</td>\n",
       "      <td>No</td>\n",
       "      <td>13.0</td>\n",
       "      <td>NaN</td>\n",
       "      <td>Extrovert</td>\n",
       "    </tr>\n",
       "  </tbody>\n",
       "</table>\n",
       "</div>"
      ],
      "text/plain": [
       "   id  Time_spent_Alone Stage_fear  Social_event_attendance  Going_outside  \\\n",
       "0   0               0.0         No                      6.0            4.0   \n",
       "1   1               1.0         No                      7.0            3.0   \n",
       "2   2               6.0        Yes                      1.0            0.0   \n",
       "3   3               3.0         No                      7.0            3.0   \n",
       "4   4               1.0         No                      4.0            4.0   \n",
       "\n",
       "  Drained_after_socializing  Friends_circle_size  Post_frequency Personality  \n",
       "0                        No                 15.0             5.0   Extrovert  \n",
       "1                        No                 10.0             8.0   Extrovert  \n",
       "2                       NaN                  3.0             0.0   Introvert  \n",
       "3                        No                 11.0             5.0   Extrovert  \n",
       "4                        No                 13.0             NaN   Extrovert  "
      ]
     },
     "execution_count": 5,
     "metadata": {},
     "output_type": "execute_result"
    }
   ],
   "source": [
    "train_df.head()"
   ]
  },
  {
   "cell_type": "markdown",
   "id": "a799d635",
   "metadata": {
    "papermill": {
     "duration": 0.004611,
     "end_time": "2025-09-04T21:59:22.186869",
     "exception": false,
     "start_time": "2025-09-04T21:59:22.182258",
     "status": "completed"
    },
    "tags": []
   },
   "source": [
    "## EDA"
   ]
  },
  {
   "cell_type": "code",
   "execution_count": 6,
   "id": "210736e9",
   "metadata": {
    "papermill": {
     "duration": 0.066156,
     "end_time": "2025-09-04T21:59:22.257896",
     "exception": false,
     "start_time": "2025-09-04T21:59:22.191740",
     "status": "completed"
    },
    "tags": []
   },
   "outputs": [
    {
     "name": "stdout",
     "output_type": "stream",
     "text": [
      "<class 'pandas.core.frame.DataFrame'>\n",
      "RangeIndex: 18524 entries, 0 to 18523\n",
      "Data columns (total 9 columns):\n",
      " #   Column                     Non-Null Count  Dtype  \n",
      "---  ------                     --------------  -----  \n",
      " 0   id                         18524 non-null  int64  \n",
      " 1   Time_spent_Alone           17334 non-null  float64\n",
      " 2   Stage_fear                 16631 non-null  object \n",
      " 3   Social_event_attendance    17344 non-null  float64\n",
      " 4   Going_outside              17058 non-null  float64\n",
      " 5   Drained_after_socializing  17375 non-null  object \n",
      " 6   Friends_circle_size        17470 non-null  float64\n",
      " 7   Post_frequency             17260 non-null  float64\n",
      " 8   Personality                18524 non-null  object \n",
      "dtypes: float64(5), int64(1), object(3)\n",
      "memory usage: 1.3+ MB\n",
      "None\n",
      "id                              0\n",
      "Time_spent_Alone             1190\n",
      "Stage_fear                   1893\n",
      "Social_event_attendance      1180\n",
      "Going_outside                1466\n",
      "Drained_after_socializing    1149\n",
      "Friends_circle_size          1054\n",
      "Post_frequency               1264\n",
      "Personality                     0\n",
      "dtype: int64\n",
      "                 id  Time_spent_Alone  Social_event_attendance  Going_outside  \\\n",
      "count  18524.000000      17334.000000             17344.000000   17058.000000   \n",
      "mean    9261.500000          3.137764                 5.265106       4.044319   \n",
      "std     5347.562529          3.003786                 2.753359       2.062580   \n",
      "min        0.000000          0.000000                 0.000000       0.000000   \n",
      "25%     4630.750000          1.000000                 3.000000       3.000000   \n",
      "50%     9261.500000          2.000000                 5.000000       4.000000   \n",
      "75%    13892.250000          4.000000                 8.000000       6.000000   \n",
      "max    18523.000000         11.000000                10.000000       7.000000   \n",
      "\n",
      "       Friends_circle_size  Post_frequency  \n",
      "count         17470.000000    17260.000000  \n",
      "mean              7.996737        4.982097  \n",
      "std               4.223484        2.879139  \n",
      "min               0.000000        0.000000  \n",
      "25%               5.000000        3.000000  \n",
      "50%               8.000000        5.000000  \n",
      "75%              12.000000        7.000000  \n",
      "max              15.000000       10.000000  \n"
     ]
    }
   ],
   "source": [
    "#Train\n",
    "print(train_df.info())\n",
    "print(train_df.isna().sum())\n",
    "print(train_df.describe())"
   ]
  },
  {
   "cell_type": "code",
   "execution_count": 7,
   "id": "74431d0a",
   "metadata": {
    "papermill": {
     "duration": 0.040088,
     "end_time": "2025-09-04T21:59:22.303927",
     "exception": false,
     "start_time": "2025-09-04T21:59:22.263839",
     "status": "completed"
    },
    "tags": []
   },
   "outputs": [
    {
     "name": "stdout",
     "output_type": "stream",
     "text": [
      "<class 'pandas.core.frame.DataFrame'>\n",
      "RangeIndex: 6175 entries, 0 to 6174\n",
      "Data columns (total 8 columns):\n",
      " #   Column                     Non-Null Count  Dtype  \n",
      "---  ------                     --------------  -----  \n",
      " 0   id                         6175 non-null   int64  \n",
      " 1   Time_spent_Alone           5750 non-null   float64\n",
      " 2   Stage_fear                 5577 non-null   object \n",
      " 3   Social_event_attendance    5778 non-null   float64\n",
      " 4   Going_outside              5709 non-null   float64\n",
      " 5   Drained_after_socializing  5743 non-null   object \n",
      " 6   Friends_circle_size        5825 non-null   float64\n",
      " 7   Post_frequency             5767 non-null   float64\n",
      "dtypes: float64(5), int64(1), object(2)\n",
      "memory usage: 386.1+ KB\n",
      "None\n",
      "id                             0\n",
      "Time_spent_Alone             425\n",
      "Stage_fear                   598\n",
      "Social_event_attendance      397\n",
      "Going_outside                466\n",
      "Drained_after_socializing    432\n",
      "Friends_circle_size          350\n",
      "Post_frequency               408\n",
      "dtype: int64\n",
      "                 id  Time_spent_Alone  Social_event_attendance  Going_outside  \\\n",
      "count   6175.000000       5750.000000              5778.000000    5709.000000   \n",
      "mean   21611.000000          3.116870                 5.287989       4.037835   \n",
      "std     1782.713288          2.985658                 2.758052       2.045207   \n",
      "min    18524.000000          0.000000                 0.000000       0.000000   \n",
      "25%    20067.500000          1.000000                 3.000000       3.000000   \n",
      "50%    21611.000000          2.000000                 5.000000       4.000000   \n",
      "75%    23154.500000          4.000000                 8.000000       6.000000   \n",
      "max    24698.000000         11.000000                10.000000       7.000000   \n",
      "\n",
      "       Friends_circle_size  Post_frequency  \n",
      "count          5825.000000     5767.000000  \n",
      "mean              8.008412        5.028958  \n",
      "std               4.192701        2.867285  \n",
      "min               0.000000        0.000000  \n",
      "25%               5.000000        3.000000  \n",
      "50%               8.000000        5.000000  \n",
      "75%              12.000000        7.000000  \n",
      "max              15.000000       10.000000  \n"
     ]
    }
   ],
   "source": [
    "#Test\n",
    "print(test_df.info())\n",
    "print(test_df.isna().sum())\n",
    "print(test_df.describe())"
   ]
  },
  {
   "cell_type": "markdown",
   "id": "ef508bdc",
   "metadata": {
    "papermill": {
     "duration": 0.005194,
     "end_time": "2025-09-04T21:59:22.314406",
     "exception": false,
     "start_time": "2025-09-04T21:59:22.309212",
     "status": "completed"
    },
    "tags": []
   },
   "source": [
    "## Cleaning"
   ]
  },
  {
   "cell_type": "code",
   "execution_count": 8,
   "id": "dc3a65c1",
   "metadata": {
    "papermill": {
     "duration": 0.015074,
     "end_time": "2025-09-04T21:59:22.334557",
     "exception": false,
     "start_time": "2025-09-04T21:59:22.319483",
     "status": "completed"
    },
    "tags": []
   },
   "outputs": [],
   "source": [
    "# Fixing NA fields\n",
    "def na_fill(df):\n",
    "    num_cols = df.select_dtypes(include=['number']).columns\n",
    "    obj_cols = df.select_dtypes(include=['object']).columns\n",
    "    for n_col in num_cols:\n",
    "        df[n_col].fillna(df[n_col].mean(), inplace=True)\n",
    "    for o_col in obj_cols:\n",
    "        df[o_col].fillna('No', inplace=True)\n",
    "    return df"
   ]
  },
  {
   "cell_type": "code",
   "execution_count": 9,
   "id": "69bd814b",
   "metadata": {
    "papermill": {
     "duration": 0.03755,
     "end_time": "2025-09-04T21:59:22.377528",
     "exception": false,
     "start_time": "2025-09-04T21:59:22.339978",
     "status": "completed"
    },
    "scrolled": true,
    "tags": []
   },
   "outputs": [
    {
     "name": "stdout",
     "output_type": "stream",
     "text": [
      "---Train---\n",
      "id                           0\n",
      "Time_spent_Alone             0\n",
      "Stage_fear                   0\n",
      "Social_event_attendance      0\n",
      "Going_outside                0\n",
      "Drained_after_socializing    0\n",
      "Friends_circle_size          0\n",
      "Post_frequency               0\n",
      "Personality                  0\n",
      "dtype: int64\n",
      "\n",
      "---Test---\n",
      "id                           0\n",
      "Time_spent_Alone             0\n",
      "Stage_fear                   0\n",
      "Social_event_attendance      0\n",
      "Going_outside                0\n",
      "Drained_after_socializing    0\n",
      "Friends_circle_size          0\n",
      "Post_frequency               0\n",
      "dtype: int64\n"
     ]
    }
   ],
   "source": [
    "train_filled = na_fill(train_df)\n",
    "print(f'---Train---\\n{train_filled.isna().sum()}\\n')\n",
    "\n",
    "test_filled = na_fill(test_df)\n",
    "print(f'---Test---\\n{test_filled.isna().sum()}')"
   ]
  },
  {
   "cell_type": "code",
   "execution_count": 10,
   "id": "771490b1",
   "metadata": {
    "papermill": {
     "duration": 0.033041,
     "end_time": "2025-09-04T21:59:22.416098",
     "exception": false,
     "start_time": "2025-09-04T21:59:22.383057",
     "status": "completed"
    },
    "tags": []
   },
   "outputs": [
    {
     "data": {
      "text/html": [
       "<div>\n",
       "<style scoped>\n",
       "    .dataframe tbody tr th:only-of-type {\n",
       "        vertical-align: middle;\n",
       "    }\n",
       "\n",
       "    .dataframe tbody tr th {\n",
       "        vertical-align: top;\n",
       "    }\n",
       "\n",
       "    .dataframe thead th {\n",
       "        text-align: right;\n",
       "    }\n",
       "</style>\n",
       "<table border=\"1\" class=\"dataframe\">\n",
       "  <thead>\n",
       "    <tr style=\"text-align: right;\">\n",
       "      <th></th>\n",
       "      <th>Stage_fear</th>\n",
       "      <th>Drained_after_socializing</th>\n",
       "      <th>Personality</th>\n",
       "    </tr>\n",
       "  </thead>\n",
       "  <tbody>\n",
       "    <tr>\n",
       "      <th>0</th>\n",
       "      <td>No</td>\n",
       "      <td>No</td>\n",
       "      <td>Extrovert</td>\n",
       "    </tr>\n",
       "    <tr>\n",
       "      <th>1</th>\n",
       "      <td>No</td>\n",
       "      <td>No</td>\n",
       "      <td>Extrovert</td>\n",
       "    </tr>\n",
       "    <tr>\n",
       "      <th>2</th>\n",
       "      <td>Yes</td>\n",
       "      <td>No</td>\n",
       "      <td>Introvert</td>\n",
       "    </tr>\n",
       "    <tr>\n",
       "      <th>3</th>\n",
       "      <td>No</td>\n",
       "      <td>No</td>\n",
       "      <td>Extrovert</td>\n",
       "    </tr>\n",
       "    <tr>\n",
       "      <th>4</th>\n",
       "      <td>No</td>\n",
       "      <td>No</td>\n",
       "      <td>Extrovert</td>\n",
       "    </tr>\n",
       "  </tbody>\n",
       "</table>\n",
       "</div>"
      ],
      "text/plain": [
       "  Stage_fear Drained_after_socializing Personality\n",
       "0         No                        No   Extrovert\n",
       "1         No                        No   Extrovert\n",
       "2        Yes                        No   Introvert\n",
       "3         No                        No   Extrovert\n",
       "4         No                        No   Extrovert"
      ]
     },
     "execution_count": 10,
     "metadata": {},
     "output_type": "execute_result"
    }
   ],
   "source": [
    "# Mapping objects to numericals\n",
    "map_cols = train_filled.describe(include=['object']).columns\n",
    "train_filled[map_cols].head()"
   ]
  },
  {
   "cell_type": "code",
   "execution_count": 11,
   "id": "46a467fd",
   "metadata": {
    "papermill": {
     "duration": 0.02564,
     "end_time": "2025-09-04T21:59:22.447421",
     "exception": false,
     "start_time": "2025-09-04T21:59:22.421781",
     "status": "completed"
    },
    "tags": []
   },
   "outputs": [],
   "source": [
    "train_filled['Stage_fear'] = train_filled['Stage_fear'].map({'Yes':1, 'No':0})\n",
    "train_filled['Drained_after_socializing'] = train_filled['Drained_after_socializing'].map({'Yes':1, 'No':0})\n",
    "train_filled['Personality'] = train_filled['Personality'].map({'Extrovert':1, 'Introvert':0})\n",
    "\n",
    "test_filled['Stage_fear'] = test_filled['Stage_fear'].map({'Yes':1, 'No':0})\n",
    "test_filled['Drained_after_socializing'] = test_filled['Drained_after_socializing'].map({'Yes':1, 'No':0})"
   ]
  },
  {
   "cell_type": "code",
   "execution_count": 12,
   "id": "d41e8308",
   "metadata": {
    "papermill": {
     "duration": 0.021588,
     "end_time": "2025-09-04T21:59:22.474811",
     "exception": false,
     "start_time": "2025-09-04T21:59:22.453223",
     "status": "completed"
    },
    "tags": []
   },
   "outputs": [
    {
     "data": {
      "text/html": [
       "<div>\n",
       "<style scoped>\n",
       "    .dataframe tbody tr th:only-of-type {\n",
       "        vertical-align: middle;\n",
       "    }\n",
       "\n",
       "    .dataframe tbody tr th {\n",
       "        vertical-align: top;\n",
       "    }\n",
       "\n",
       "    .dataframe thead th {\n",
       "        text-align: right;\n",
       "    }\n",
       "</style>\n",
       "<table border=\"1\" class=\"dataframe\">\n",
       "  <thead>\n",
       "    <tr style=\"text-align: right;\">\n",
       "      <th></th>\n",
       "      <th>id</th>\n",
       "      <th>Time_spent_Alone</th>\n",
       "      <th>Stage_fear</th>\n",
       "      <th>Social_event_attendance</th>\n",
       "      <th>Going_outside</th>\n",
       "      <th>Drained_after_socializing</th>\n",
       "      <th>Friends_circle_size</th>\n",
       "      <th>Post_frequency</th>\n",
       "    </tr>\n",
       "  </thead>\n",
       "  <tbody>\n",
       "    <tr>\n",
       "      <th>0</th>\n",
       "      <td>18524</td>\n",
       "      <td>3.00000</td>\n",
       "      <td>0</td>\n",
       "      <td>7.0</td>\n",
       "      <td>4.0</td>\n",
       "      <td>0</td>\n",
       "      <td>6.0</td>\n",
       "      <td>5.028958</td>\n",
       "    </tr>\n",
       "    <tr>\n",
       "      <th>1</th>\n",
       "      <td>18525</td>\n",
       "      <td>3.11687</td>\n",
       "      <td>1</td>\n",
       "      <td>0.0</td>\n",
       "      <td>0.0</td>\n",
       "      <td>1</td>\n",
       "      <td>5.0</td>\n",
       "      <td>1.000000</td>\n",
       "    </tr>\n",
       "    <tr>\n",
       "      <th>2</th>\n",
       "      <td>18526</td>\n",
       "      <td>3.00000</td>\n",
       "      <td>0</td>\n",
       "      <td>5.0</td>\n",
       "      <td>6.0</td>\n",
       "      <td>0</td>\n",
       "      <td>15.0</td>\n",
       "      <td>9.000000</td>\n",
       "    </tr>\n",
       "    <tr>\n",
       "      <th>3</th>\n",
       "      <td>18527</td>\n",
       "      <td>3.00000</td>\n",
       "      <td>0</td>\n",
       "      <td>4.0</td>\n",
       "      <td>4.0</td>\n",
       "      <td>0</td>\n",
       "      <td>5.0</td>\n",
       "      <td>6.000000</td>\n",
       "    </tr>\n",
       "    <tr>\n",
       "      <th>4</th>\n",
       "      <td>18528</td>\n",
       "      <td>9.00000</td>\n",
       "      <td>1</td>\n",
       "      <td>1.0</td>\n",
       "      <td>2.0</td>\n",
       "      <td>1</td>\n",
       "      <td>1.0</td>\n",
       "      <td>1.000000</td>\n",
       "    </tr>\n",
       "  </tbody>\n",
       "</table>\n",
       "</div>"
      ],
      "text/plain": [
       "      id  Time_spent_Alone  Stage_fear  Social_event_attendance  \\\n",
       "0  18524           3.00000           0                      7.0   \n",
       "1  18525           3.11687           1                      0.0   \n",
       "2  18526           3.00000           0                      5.0   \n",
       "3  18527           3.00000           0                      4.0   \n",
       "4  18528           9.00000           1                      1.0   \n",
       "\n",
       "   Going_outside  Drained_after_socializing  Friends_circle_size  \\\n",
       "0            4.0                          0                  6.0   \n",
       "1            0.0                          1                  5.0   \n",
       "2            6.0                          0                 15.0   \n",
       "3            4.0                          0                  5.0   \n",
       "4            2.0                          1                  1.0   \n",
       "\n",
       "   Post_frequency  \n",
       "0        5.028958  \n",
       "1        1.000000  \n",
       "2        9.000000  \n",
       "3        6.000000  \n",
       "4        1.000000  "
      ]
     },
     "execution_count": 12,
     "metadata": {},
     "output_type": "execute_result"
    }
   ],
   "source": [
    "test_filled.head()"
   ]
  },
  {
   "cell_type": "markdown",
   "id": "43139edc",
   "metadata": {
    "papermill": {
     "duration": 0.00552,
     "end_time": "2025-09-04T21:59:22.486247",
     "exception": false,
     "start_time": "2025-09-04T21:59:22.480727",
     "status": "completed"
    },
    "tags": []
   },
   "source": [
    "## Modeling Preparation"
   ]
  },
  {
   "cell_type": "code",
   "execution_count": 13,
   "id": "7a7ecc66",
   "metadata": {
    "papermill": {
     "duration": 0.019839,
     "end_time": "2025-09-04T21:59:22.511776",
     "exception": false,
     "start_time": "2025-09-04T21:59:22.491937",
     "status": "completed"
    },
    "tags": []
   },
   "outputs": [],
   "source": [
    "rdy_data = train_filled.drop(columns=['id','Personality'])\n",
    "target = train_filled['Personality']\n",
    "\n",
    "test_final = test_filled.copy()\n",
    "test_rdy = test_filled.drop(columns='id')"
   ]
  },
  {
   "cell_type": "code",
   "execution_count": 25,
   "id": "6fd74504",
   "metadata": {
    "papermill": {
     "duration": 0.02555,
     "end_time": "2025-09-04T21:59:22.543324",
     "exception": false,
     "start_time": "2025-09-04T21:59:22.517774",
     "status": "completed"
    },
    "scrolled": true,
    "tags": []
   },
   "outputs": [
    {
     "data": {
      "text/plain": [
       "(18524, 7)"
      ]
     },
     "execution_count": 25,
     "metadata": {},
     "output_type": "execute_result"
    }
   ],
   "source": [
    "rdy_data.shape"
   ]
  },
  {
   "cell_type": "code",
   "execution_count": 24,
   "id": "2c6c1f5c",
   "metadata": {
    "papermill": {
     "duration": 0.016322,
     "end_time": "2025-09-04T21:59:22.566889",
     "exception": false,
     "start_time": "2025-09-04T21:59:22.550567",
     "status": "completed"
    },
    "tags": []
   },
   "outputs": [
    {
     "data": {
      "text/plain": [
       "(18524,)"
      ]
     },
     "execution_count": 24,
     "metadata": {},
     "output_type": "execute_result"
    }
   ],
   "source": [
    "target.shape"
   ]
  },
  {
   "cell_type": "code",
   "execution_count": 16,
   "id": "c5488e4d",
   "metadata": {
    "papermill": {
     "duration": 0.02167,
     "end_time": "2025-09-04T21:59:22.595273",
     "exception": false,
     "start_time": "2025-09-04T21:59:22.573603",
     "status": "completed"
    },
    "scrolled": true,
    "tags": []
   },
   "outputs": [
    {
     "name": "stdout",
     "output_type": "stream",
     "text": [
      "X_train\n",
      "(14819, 7)\n",
      "\n",
      "X_test\n",
      "(3705, 7)\n",
      "\n",
      "y_train\n",
      "(14819,)\n",
      "\n",
      "y_test\n",
      "(3705,)\n"
     ]
    }
   ],
   "source": [
    "X_train, X_test, y_train, y_test = train_test_split(rdy_data, target, test_size=0.2, random_state=20)\n",
    "print(f'X_train\\n{X_train.shape}\\n\\nX_test\\n{X_test.shape}\\n\\ny_train\\n{y_train.shape}\\n\\ny_test\\n{y_test.shape}')"
   ]
  },
  {
   "cell_type": "markdown",
   "id": "62d53da6",
   "metadata": {
    "papermill": {
     "duration": 0.006507,
     "end_time": "2025-09-04T21:59:22.608216",
     "exception": false,
     "start_time": "2025-09-04T21:59:22.601709",
     "status": "completed"
    },
    "tags": []
   },
   "source": [
    "## Model Creation"
   ]
  },
  {
   "cell_type": "code",
   "execution_count": 17,
   "id": "6fa6ab35",
   "metadata": {
    "papermill": {
     "duration": 0.27277,
     "end_time": "2025-09-04T21:59:22.887240",
     "exception": false,
     "start_time": "2025-09-04T21:59:22.614470",
     "status": "completed"
    },
    "tags": []
   },
   "outputs": [],
   "source": [
    "lr = LogisticRegression(random_state=21).fit(X_train, y_train)\n",
    "y_pred = lr.predict(X_test)"
   ]
  },
  {
   "cell_type": "markdown",
   "id": "b0db8c18",
   "metadata": {
    "papermill": {
     "duration": 0.009484,
     "end_time": "2025-09-04T21:59:22.906953",
     "exception": false,
     "start_time": "2025-09-04T21:59:22.897469",
     "status": "completed"
    },
    "tags": []
   },
   "source": [
    "## Metric Check"
   ]
  },
  {
   "cell_type": "code",
   "execution_count": 18,
   "id": "5fd4794e",
   "metadata": {
    "papermill": {
     "duration": 0.025219,
     "end_time": "2025-09-04T21:59:22.942096",
     "exception": false,
     "start_time": "2025-09-04T21:59:22.916877",
     "status": "completed"
    },
    "scrolled": true,
    "tags": []
   },
   "outputs": [
    {
     "data": {
      "text/plain": [
       "96.49122807017544"
      ]
     },
     "execution_count": 18,
     "metadata": {},
     "output_type": "execute_result"
    }
   ],
   "source": [
    "accuracy_score(y_test, y_pred)*100"
   ]
  },
  {
   "cell_type": "markdown",
   "id": "9d29598f-1372-462c-a57c-b3126984134b",
   "metadata": {},
   "source": [
    "## Official Run"
   ]
  },
  {
   "cell_type": "code",
   "execution_count": 27,
   "id": "6ceba5b2-ae4b-445d-a0bf-81c224935839",
   "metadata": {},
   "outputs": [],
   "source": [
    "## Accuracy is acceptable, train and test on full sets\n",
    "lr_final = LogisticRegression(random_state=49).fit(rdy_data, target)\n",
    "lr_final_pred = lr_final.predict(test_rdy)"
   ]
  },
  {
   "cell_type": "markdown",
   "id": "6c675543",
   "metadata": {
    "papermill": {
     "duration": 0.009749,
     "end_time": "2025-09-04T21:59:22.961948",
     "exception": false,
     "start_time": "2025-09-04T21:59:22.952199",
     "status": "completed"
    },
    "tags": []
   },
   "source": [
    "## Test Dataset Update/Remap"
   ]
  },
  {
   "cell_type": "code",
   "execution_count": 37,
   "id": "f731a991",
   "metadata": {
    "papermill": {
     "duration": 0.030479,
     "end_time": "2025-09-04T21:59:23.003780",
     "exception": false,
     "start_time": "2025-09-04T21:59:22.973301",
     "status": "completed"
    },
    "scrolled": true,
    "tags": []
   },
   "outputs": [
    {
     "data": {
      "text/html": [
       "<div>\n",
       "<style scoped>\n",
       "    .dataframe tbody tr th:only-of-type {\n",
       "        vertical-align: middle;\n",
       "    }\n",
       "\n",
       "    .dataframe tbody tr th {\n",
       "        vertical-align: top;\n",
       "    }\n",
       "\n",
       "    .dataframe thead th {\n",
       "        text-align: right;\n",
       "    }\n",
       "</style>\n",
       "<table border=\"1\" class=\"dataframe\">\n",
       "  <thead>\n",
       "    <tr style=\"text-align: right;\">\n",
       "      <th></th>\n",
       "      <th>id</th>\n",
       "      <th>Personality</th>\n",
       "    </tr>\n",
       "  </thead>\n",
       "  <tbody>\n",
       "    <tr>\n",
       "      <th>0</th>\n",
       "      <td>18524</td>\n",
       "      <td>Extrovert</td>\n",
       "    </tr>\n",
       "    <tr>\n",
       "      <th>1</th>\n",
       "      <td>18525</td>\n",
       "      <td>Introvert</td>\n",
       "    </tr>\n",
       "    <tr>\n",
       "      <th>2</th>\n",
       "      <td>18526</td>\n",
       "      <td>Extrovert</td>\n",
       "    </tr>\n",
       "    <tr>\n",
       "      <th>3</th>\n",
       "      <td>18527</td>\n",
       "      <td>Extrovert</td>\n",
       "    </tr>\n",
       "    <tr>\n",
       "      <th>4</th>\n",
       "      <td>18528</td>\n",
       "      <td>Introvert</td>\n",
       "    </tr>\n",
       "  </tbody>\n",
       "</table>\n",
       "</div>"
      ],
      "text/plain": [
       "      id Personality\n",
       "0  18524   Extrovert\n",
       "1  18525   Introvert\n",
       "2  18526   Extrovert\n",
       "3  18527   Extrovert\n",
       "4  18528   Introvert"
      ]
     },
     "execution_count": 37,
     "metadata": {},
     "output_type": "execute_result"
    }
   ],
   "source": [
    "test_final['Personality'] = pd.DataFrame(lr_final_pred)\n",
    "test_final['Personality'] = test_final['Personality'].map({1:'Extrovert', 0:'Introvert'})\n",
    "\n",
    "test_submit = test_final.iloc[:,[0,-1]]\n",
    "test_submit.head()"
   ]
  },
  {
   "cell_type": "code",
   "execution_count": 38,
   "id": "bf45c2d3-4459-423d-b1dd-31bb1c775198",
   "metadata": {},
   "outputs": [
    {
     "data": {
      "text/plain": [
       "id             0\n",
       "Personality    0\n",
       "dtype: int64"
      ]
     },
     "execution_count": 38,
     "metadata": {},
     "output_type": "execute_result"
    }
   ],
   "source": [
    "test_submit.isna().sum() #was 2470"
   ]
  },
  {
   "cell_type": "code",
   "execution_count": 39,
   "id": "bc09dce0",
   "metadata": {
    "papermill": {
     "duration": 0.027342,
     "end_time": "2025-09-04T21:59:23.037628",
     "exception": false,
     "start_time": "2025-09-04T21:59:23.010286",
     "status": "completed"
    },
    "tags": []
   },
   "outputs": [],
   "source": [
    "test_submit.to_csv('submission.csv', index=False)"
   ]
  }
 ],
 "metadata": {
  "kaggle": {
   "accelerator": "none",
   "dataSources": [
    {
     "databundleVersionId": 12738969,
     "sourceId": 91718,
     "sourceType": "competition"
    }
   ],
   "dockerImageVersionId": 31089,
   "isGpuEnabled": false,
   "isInternetEnabled": true,
   "language": "python",
   "sourceType": "notebook"
  },
  "kernelspec": {
   "display_name": "Python 3 (ipykernel)",
   "language": "python",
   "name": "python3"
  },
  "language_info": {
   "codemirror_mode": {
    "name": "ipython",
    "version": 3
   },
   "file_extension": ".py",
   "mimetype": "text/x-python",
   "name": "python",
   "nbconvert_exporter": "python",
   "pygments_lexer": "ipython3",
   "version": "3.11.4"
  },
  "papermill": {
   "default_parameters": {},
   "duration": 13.734064,
   "end_time": "2025-09-04T21:59:23.767130",
   "environment_variables": {},
   "exception": null,
   "input_path": "__notebook__.ipynb",
   "output_path": "__notebook__.ipynb",
   "parameters": {},
   "start_time": "2025-09-04T21:59:10.033066",
   "version": "2.6.0"
  }
 },
 "nbformat": 4,
 "nbformat_minor": 5
}
